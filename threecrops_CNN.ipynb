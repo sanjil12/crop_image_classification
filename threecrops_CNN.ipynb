{
  "nbformat": 4,
  "nbformat_minor": 0,
  "metadata": {
    "colab": {
      "name": "threecrops_CNN.ipynb",
      "provenance": [],
      "toc_visible": true
    },
    "kernelspec": {
      "name": "python3",
      "display_name": "Python 3"
    },
    "accelerator": "GPU"
  },
  "cells": [
    {
      "cell_type": "code",
      "metadata": {
        "id": "m3xERRQxwRAx"
      },
      "source": [
        "from pydrive.auth import GoogleAuth\n",
        "from pydrive.drive import GoogleDrive\n",
        "from google.colab import auth\n",
        "from oauth2client.client import GoogleCredentials"
      ],
      "execution_count": null,
      "outputs": []
    },
    {
      "cell_type": "code",
      "metadata": {
        "id": "KzA4nAfowSkR"
      },
      "source": [
        "auth.authenticate_user()\n",
        "gauth = GoogleAuth()\n",
        "gauth.credentials = GoogleCredentials.get_application_default()\n",
        "drive = GoogleDrive(gauth)"
      ],
      "execution_count": null,
      "outputs": []
    },
    {
      "cell_type": "code",
      "metadata": {
        "id": "umjISEazxl0g"
      },
      "source": [
        ""
      ],
      "execution_count": null,
      "outputs": []
    },
    {
      "cell_type": "code",
      "metadata": {
        "id": "JuzMcJ1lzqGY",
        "outputId": "b52b5357-d533-47f6-e06d-1ea63c640ffc",
        "colab": {
          "base_uri": "https://localhost:8080/",
          "height": 130
        }
      },
      "source": [
        "from google.colab import drive\n",
        "\n",
        "\n",
        "drive.mount('/content/drive')"
      ],
      "execution_count": null,
      "outputs": [
        {
          "output_type": "stream",
          "text": [
            "Go to this URL in a browser: https://accounts.google.com/o/oauth2/auth?client_id=947318989803-6bn6qk8qdgf4n4g3pfee6491hc0brc4i.apps.googleusercontent.com&redirect_uri=urn%3aietf%3awg%3aoauth%3a2.0%3aoob&response_type=code&scope=email%20https%3a%2f%2fwww.googleapis.com%2fauth%2fdocs.test%20https%3a%2f%2fwww.googleapis.com%2fauth%2fdrive%20https%3a%2f%2fwww.googleapis.com%2fauth%2fdrive.photos.readonly%20https%3a%2f%2fwww.googleapis.com%2fauth%2fpeopleapi.readonly\n",
            "\n",
            "Enter your authorization code:\n",
            "··········\n",
            "Mounted at /content/drive\n"
          ],
          "name": "stdout"
        }
      ]
    },
    {
      "cell_type": "code",
      "metadata": {
        "id": "yaCj9DDvz65V",
        "outputId": "45025ae1-b530-4e33-94ad-6deb90238274",
        "colab": {
          "base_uri": "https://localhost:8080/",
          "height": 166
        }
      },
      "source": [
        "!pip install keras\n"
      ],
      "execution_count": null,
      "outputs": [
        {
          "output_type": "stream",
          "text": [
            "Requirement already satisfied: keras in /usr/local/lib/python3.6/dist-packages (2.2.5)\n",
            "Requirement already satisfied: six>=1.9.0 in /usr/local/lib/python3.6/dist-packages (from keras) (1.12.0)\n",
            "Requirement already satisfied: keras-applications>=1.0.8 in /usr/local/lib/python3.6/dist-packages (from keras) (1.0.8)\n",
            "Requirement already satisfied: h5py in /usr/local/lib/python3.6/dist-packages (from keras) (2.8.0)\n",
            "Requirement already satisfied: keras-preprocessing>=1.1.0 in /usr/local/lib/python3.6/dist-packages (from keras) (1.1.0)\n",
            "Requirement already satisfied: numpy>=1.9.1 in /usr/local/lib/python3.6/dist-packages (from keras) (1.17.5)\n",
            "Requirement already satisfied: pyyaml in /usr/local/lib/python3.6/dist-packages (from keras) (3.13)\n",
            "Requirement already satisfied: scipy>=0.14 in /usr/local/lib/python3.6/dist-packages (from keras) (1.4.1)\n"
          ],
          "name": "stdout"
        }
      ]
    },
    {
      "cell_type": "code",
      "metadata": {
        "id": "9Ft1KlXY1ZkT"
      },
      "source": [
        "import keras_preprocessing"
      ],
      "execution_count": null,
      "outputs": []
    },
    {
      "cell_type": "code",
      "metadata": {
        "id": "HaLETRmE1lBp"
      },
      "source": [
        "import keras"
      ],
      "execution_count": null,
      "outputs": []
    },
    {
      "cell_type": "code",
      "metadata": {
        "id": "s6f8hXb910RX"
      },
      "source": [
        "train_path=\"/content/drive/My Drive/newtrain folder\"\n",
        "test_path=\"/content/drive/My Drive/validation\""
      ],
      "execution_count": null,
      "outputs": []
    },
    {
      "cell_type": "code",
      "metadata": {
        "id": "ED_RnQUM2lbu"
      },
      "source": [
        "\n",
        "\n",
        "\n",
        "\n"
      ],
      "execution_count": null,
      "outputs": []
    },
    {
      "cell_type": "code",
      "metadata": {
        "id": "doLOIVnO2q0E"
      },
      "source": [
        "from keras.models import Sequential\n",
        "from keras.layers import *\n",
        "model = Sequential()\n",
        "def cnnfunc():\n",
        "\n",
        "  # Build a Model \n",
        "  #1st convolution layer\n",
        "  #model = Sequential()\n",
        "  model.add(Conv2D(64,(3,3),activation='relu',input_shape=(150,150,3))) \n",
        "  model.add(BatchNormalization())\n",
        "  model.add(MaxPool2D((2,2)))\n",
        "  model.add(Dropout(0.25))\n",
        "\n",
        "  #2nd convolution layer\n",
        "  model.add(Conv2D(256,(3,3),activation='relu',input_shape=(28,28,1)))\n",
        "  model.add(BatchNormalization())\n",
        "  model.add(MaxPool2D((2,2)))\n",
        "  model.add(Dropout(0.25))\n",
        "\n",
        "  #3rd convolution layer\n",
        "  model.add(Conv2D(128,(3,3),activation='relu',input_shape=(28,28,1)))\n",
        "  model.add(BatchNormalization())\n",
        "  model.add(MaxPool2D((2,2)))\n",
        "  model.add(Dropout(0.25))\n",
        "\n",
        "  #4th convolution layer\n",
        "  model.add(Conv2D(64,(3,3),activation='relu',input_shape=(28,28,1)))\n",
        "  model.add(BatchNormalization())\n",
        "  model.add(MaxPool2D((2,2)))\n",
        "  model.add(Dropout(0.25))\n",
        "\n",
        "  #flattening of the layer\n",
        "  model.add(Flatten())\n",
        "\n",
        "  #dense layer\n",
        "  model.add(Dense(64,activation='relu'))\n",
        "  model.add(BatchNormalization())\n",
        "  model.add(Dropout(0.25))\n",
        "\n",
        "  #2nd dense layer\n",
        "  model.add(Dense(32,activation=\"sigmoid\"))\n",
        "  model.add(BatchNormalization())\n",
        "  model.add(Dropout(0.25))\n",
        "\n",
        "  model.add(Dense(3,activation='softmax'))\n",
        "  model.summary()\n",
        "\n",
        "\n",
        "\n"
      ],
      "execution_count": null,
      "outputs": []
    },
    {
      "cell_type": "code",
      "metadata": {
        "id": "BCkPssiBqRrx",
        "outputId": "d4947cd4-2004-4444-e376-13a33fb0c70b",
        "colab": {
          "base_uri": "https://localhost:8080/",
          "height": 1000
        }
      },
      "source": [
        "cnnfunc()"
      ],
      "execution_count": null,
      "outputs": [
        {
          "output_type": "stream",
          "text": [
            "Model: \"sequential_3\"\n",
            "_________________________________________________________________\n",
            "Layer (type)                 Output Shape              Param #   \n",
            "=================================================================\n",
            "conv2d_5 (Conv2D)            (None, 148, 148, 64)      1792      \n",
            "_________________________________________________________________\n",
            "batch_normalization_7 (Batch (None, 148, 148, 64)      256       \n",
            "_________________________________________________________________\n",
            "max_pooling2d_5 (MaxPooling2 (None, 74, 74, 64)        0         \n",
            "_________________________________________________________________\n",
            "dropout_7 (Dropout)          (None, 74, 74, 64)        0         \n",
            "_________________________________________________________________\n",
            "conv2d_6 (Conv2D)            (None, 72, 72, 256)       147712    \n",
            "_________________________________________________________________\n",
            "batch_normalization_8 (Batch (None, 72, 72, 256)       1024      \n",
            "_________________________________________________________________\n",
            "max_pooling2d_6 (MaxPooling2 (None, 36, 36, 256)       0         \n",
            "_________________________________________________________________\n",
            "dropout_8 (Dropout)          (None, 36, 36, 256)       0         \n",
            "_________________________________________________________________\n",
            "conv2d_7 (Conv2D)            (None, 34, 34, 128)       295040    \n",
            "_________________________________________________________________\n",
            "batch_normalization_9 (Batch (None, 34, 34, 128)       512       \n",
            "_________________________________________________________________\n",
            "max_pooling2d_7 (MaxPooling2 (None, 17, 17, 128)       0         \n",
            "_________________________________________________________________\n",
            "dropout_9 (Dropout)          (None, 17, 17, 128)       0         \n",
            "_________________________________________________________________\n",
            "conv2d_8 (Conv2D)            (None, 15, 15, 64)        73792     \n",
            "_________________________________________________________________\n",
            "batch_normalization_10 (Batc (None, 15, 15, 64)        256       \n",
            "_________________________________________________________________\n",
            "max_pooling2d_8 (MaxPooling2 (None, 7, 7, 64)          0         \n",
            "_________________________________________________________________\n",
            "dropout_10 (Dropout)         (None, 7, 7, 64)          0         \n",
            "_________________________________________________________________\n",
            "flatten_2 (Flatten)          (None, 3136)              0         \n",
            "_________________________________________________________________\n",
            "dense_4 (Dense)              (None, 64)                200768    \n",
            "_________________________________________________________________\n",
            "batch_normalization_11 (Batc (None, 64)                256       \n",
            "_________________________________________________________________\n",
            "dropout_11 (Dropout)         (None, 64)                0         \n",
            "_________________________________________________________________\n",
            "dense_5 (Dense)              (None, 32)                2080      \n",
            "_________________________________________________________________\n",
            "batch_normalization_12 (Batc (None, 32)                128       \n",
            "_________________________________________________________________\n",
            "dropout_12 (Dropout)         (None, 32)                0         \n",
            "_________________________________________________________________\n",
            "dense_6 (Dense)              (None, 3)                 99        \n",
            "=================================================================\n",
            "Total params: 723,715\n",
            "Trainable params: 722,499\n",
            "Non-trainable params: 1,216\n",
            "_________________________________________________________________\n"
          ],
          "name": "stdout"
        }
      ]
    },
    {
      "cell_type": "code",
      "metadata": {
        "id": "iKQqBODz6zCj"
      },
      "source": [
        "from keras import optimizers"
      ],
      "execution_count": null,
      "outputs": []
    },
    {
      "cell_type": "code",
      "metadata": {
        "id": "plSjy3OH-XE6"
      },
      "source": [
        "adam=optimizers.adam(lr=0.0001)\n",
        "model.compile(loss='categorical_crossentropy',optimizer=adam,metrics=['acc'])"
      ],
      "execution_count": null,
      "outputs": []
    },
    {
      "cell_type": "code",
      "metadata": {
        "id": "p--KFqxU-6YR",
        "outputId": "1b753588-47ff-4b3f-99dd-ddcbcba8cf42",
        "colab": {
          "base_uri": "https://localhost:8080/",
          "height": 54
        }
      },
      "source": [
        "from keras.preprocessing.image import ImageDataGenerator\n",
        "\n",
        "train_gen = ImageDataGenerator(rescale=1.0/255,\n",
        "    rotation_range = 40,\n",
        "    width_shift_range = 0.2,\n",
        "    height_shift_range = 0.2,\n",
        "    shear_range = 0.2,\n",
        "    zoom_range = 0.3,\n",
        "    horizontal_flip = True\n",
        "    )\n",
        "\n",
        "\n",
        "val_gen = ImageDataGenerator(rescale=1.0/255)\n",
        "\n",
        "train_generator = train_gen.flow_from_directory(\n",
        "    train_path,\n",
        "    target_size = (150,150),\n",
        "    batch_size = 25,\n",
        "    class_mode = 'categorical'\n",
        ")\n",
        "\n",
        "val_generator = val_gen.flow_from_directory(\n",
        "   test_path,\n",
        "    target_size = (150,150),\n",
        "    batch_size = 32,\n",
        "    class_mode = 'categorical'\n",
        ")\n"
      ],
      "execution_count": null,
      "outputs": [
        {
          "output_type": "stream",
          "text": [
            "Found 815 images belonging to 3 classes.\n",
            "Found 142 images belonging to 3 classes.\n"
          ],
          "name": "stdout"
        }
      ]
    },
    {
      "cell_type": "code",
      "metadata": {
        "id": "3GU78iD8NGU_"
      },
      "source": [
        "from keras.callbacks import ModelCheckpoint\n"
      ],
      "execution_count": null,
      "outputs": []
    },
    {
      "cell_type": "code",
      "metadata": {
        "id": "EvTiaOkbNqC8"
      },
      "source": [
        "checkpoint=ModelCheckpoint(\"model_weights.h5\",monitor='val_acc',verbose=1,save_best_only=True,mode='max')"
      ],
      "execution_count": null,
      "outputs": []
    },
    {
      "cell_type": "code",
      "metadata": {
        "id": "TN9wmqiHQBSu"
      },
      "source": [
        "checkpoint?"
      ],
      "execution_count": null,
      "outputs": []
    },
    {
      "cell_type": "code",
      "metadata": {
        "id": "rXv0Rg4y_736",
        "outputId": "c9cc43b7-09ab-48fe-b494-c9719992e268",
        "colab": {
          "base_uri": "https://localhost:8080/",
          "height": 54
        }
      },
      "source": [
        "for x,y in train_generator:\n",
        "  print(x.shape)\n",
        "  print(y.shape)\n",
        "  break"
      ],
      "execution_count": null,
      "outputs": [
        {
          "output_type": "stream",
          "text": [
            "(25, 150, 150, 3)\n",
            "(25, 3)\n"
          ],
          "name": "stdout"
        }
      ]
    },
    {
      "cell_type": "code",
      "metadata": {
        "id": "WtY9BiCPNnbC"
      },
      "source": [
        ""
      ],
      "execution_count": null,
      "outputs": []
    },
    {
      "cell_type": "code",
      "metadata": {
        "id": "6x0TNX1cADpw",
        "outputId": "0dab01f8-61c8-487d-eb96-5fa4e856fe65",
        "colab": {
          "base_uri": "https://localhost:8080/",
          "height": 1000
        }
      },
      "source": [
        "history=model.fit_generator(train_generator,epochs=66,steps_per_epoch=10,validation_data=val_generator,validation_steps=10)"
      ],
      "execution_count": null,
      "outputs": [
        {
          "output_type": "stream",
          "text": [
            "Epoch 1/66\n",
            "10/10 [==============================] - 97s 10s/step - loss: 1.6375 - acc: 0.3028 - val_loss: 1.2122 - val_acc: 0.3521\n",
            "Epoch 2/66\n",
            "10/10 [==============================] - 106s 11s/step - loss: 1.4483 - acc: 0.4000 - val_loss: 1.0941 - val_acc: 0.4718\n",
            "Epoch 3/66\n",
            "10/10 [==============================] - 104s 10s/step - loss: 1.4744 - acc: 0.3760 - val_loss: 1.0546 - val_acc: 0.4577\n",
            "Epoch 4/66\n",
            "10/10 [==============================] - 33s 3s/step - loss: 1.3913 - acc: 0.4096 - val_loss: 1.0556 - val_acc: 0.4789\n",
            "Epoch 5/66\n",
            "10/10 [==============================] - 10s 1s/step - loss: 1.3755 - acc: 0.4400 - val_loss: 1.0505 - val_acc: 0.4577\n",
            "Epoch 6/66\n",
            "10/10 [==============================] - 10s 1s/step - loss: 1.4089 - acc: 0.4320 - val_loss: 1.0904 - val_acc: 0.4648\n",
            "Epoch 7/66\n",
            "10/10 [==============================] - 10s 1s/step - loss: 1.2651 - acc: 0.4680 - val_loss: 1.0942 - val_acc: 0.5000\n",
            "Epoch 8/66\n",
            "10/10 [==============================] - 11s 1s/step - loss: 1.2619 - acc: 0.4360 - val_loss: 1.0923 - val_acc: 0.4859\n",
            "Epoch 9/66\n",
            "10/10 [==============================] - 11s 1s/step - loss: 1.3549 - acc: 0.4321 - val_loss: 1.0871 - val_acc: 0.4930\n",
            "Epoch 10/66\n",
            "10/10 [==============================] - 11s 1s/step - loss: 1.2062 - acc: 0.4960 - val_loss: 1.0634 - val_acc: 0.5141\n",
            "Epoch 11/66\n",
            "10/10 [==============================] - 11s 1s/step - loss: 1.2032 - acc: 0.4840 - val_loss: 1.0406 - val_acc: 0.5141\n",
            "Epoch 12/66\n",
            "10/10 [==============================] - 11s 1s/step - loss: 1.2817 - acc: 0.4506 - val_loss: 1.0081 - val_acc: 0.5352\n",
            "Epoch 13/66\n",
            "10/10 [==============================] - 7s 709ms/step - loss: 1.2594 - acc: 0.4920 - val_loss: 0.9810 - val_acc: 0.5704\n",
            "Epoch 14/66\n",
            "10/10 [==============================] - 13s 1s/step - loss: 1.2497 - acc: 0.4560 - val_loss: 0.9552 - val_acc: 0.5704\n",
            "Epoch 15/66\n",
            "10/10 [==============================] - 11s 1s/step - loss: 1.1353 - acc: 0.5101 - val_loss: 0.9379 - val_acc: 0.5915\n",
            "Epoch 16/66\n",
            "10/10 [==============================] - 9s 925ms/step - loss: 1.1580 - acc: 0.4880 - val_loss: 0.9220 - val_acc: 0.6268\n",
            "Epoch 17/66\n",
            "10/10 [==============================] - 11s 1s/step - loss: 1.1472 - acc: 0.5205 - val_loss: 0.9126 - val_acc: 0.6056\n",
            "Epoch 18/66\n",
            "10/10 [==============================] - 10s 1s/step - loss: 1.1208 - acc: 0.5240 - val_loss: 0.9336 - val_acc: 0.5986\n",
            "Epoch 19/66\n",
            "10/10 [==============================] - 10s 1s/step - loss: 1.0991 - acc: 0.4800 - val_loss: 0.9386 - val_acc: 0.5915\n",
            "Epoch 20/66\n",
            "10/10 [==============================] - 11s 1s/step - loss: 1.2600 - acc: 0.5080 - val_loss: 0.9501 - val_acc: 0.5704\n",
            "Epoch 21/66\n",
            "10/10 [==============================] - 10s 1s/step - loss: 1.1317 - acc: 0.5120 - val_loss: 0.9639 - val_acc: 0.5493\n",
            "Epoch 22/66\n",
            "10/10 [==============================] - 10s 1s/step - loss: 1.1330 - acc: 0.5205 - val_loss: 0.9856 - val_acc: 0.5704\n",
            "Epoch 23/66\n",
            "10/10 [==============================] - 7s 696ms/step - loss: 1.0391 - acc: 0.5480 - val_loss: 0.9945 - val_acc: 0.5493\n",
            "Epoch 24/66\n",
            "10/10 [==============================] - 12s 1s/step - loss: 1.1728 - acc: 0.5120 - val_loss: 1.0028 - val_acc: 0.5282\n",
            "Epoch 25/66\n",
            "10/10 [==============================] - 11s 1s/step - loss: 1.0767 - acc: 0.5414 - val_loss: 0.9763 - val_acc: 0.5282\n",
            "Epoch 26/66\n",
            "10/10 [==============================] - 9s 929ms/step - loss: 0.9864 - acc: 0.5360 - val_loss: 0.9766 - val_acc: 0.5493\n",
            "Epoch 27/66\n",
            "10/10 [==============================] - 11s 1s/step - loss: 1.0419 - acc: 0.5320 - val_loss: 0.9667 - val_acc: 0.5563\n",
            "Epoch 28/66\n",
            "10/10 [==============================] - 10s 1s/step - loss: 1.0354 - acc: 0.5181 - val_loss: 0.9573 - val_acc: 0.5634\n",
            "Epoch 29/66\n",
            "10/10 [==============================] - 11s 1s/step - loss: 1.1021 - acc: 0.5320 - val_loss: 0.9826 - val_acc: 0.5563\n",
            "Epoch 30/66\n",
            "10/10 [==============================] - 10s 1s/step - loss: 1.0192 - acc: 0.5832 - val_loss: 0.9952 - val_acc: 0.5423\n",
            "Epoch 31/66\n",
            "10/10 [==============================] - 10s 1s/step - loss: 0.9760 - acc: 0.5720 - val_loss: 0.9925 - val_acc: 0.5352\n",
            "Epoch 32/66\n",
            "10/10 [==============================] - 10s 1s/step - loss: 1.1302 - acc: 0.5200 - val_loss: 0.9718 - val_acc: 0.5493\n",
            "Epoch 33/66\n",
            "10/10 [==============================] - 10s 1s/step - loss: 1.0403 - acc: 0.5240 - val_loss: 0.9487 - val_acc: 0.5352\n",
            "Epoch 34/66\n",
            "10/10 [==============================] - 10s 1s/step - loss: 1.0542 - acc: 0.5720 - val_loss: 0.9416 - val_acc: 0.5704\n",
            "Epoch 35/66\n",
            "10/10 [==============================] - 10s 999ms/step - loss: 0.9880 - acc: 0.5438 - val_loss: 0.9274 - val_acc: 0.6056\n",
            "Epoch 36/66\n",
            "10/10 [==============================] - 7s 692ms/step - loss: 1.0083 - acc: 0.6000 - val_loss: 0.9105 - val_acc: 0.6408\n",
            "Epoch 37/66\n",
            "10/10 [==============================] - 11s 1s/step - loss: 0.9427 - acc: 0.5920 - val_loss: 0.9002 - val_acc: 0.6127\n",
            "Epoch 38/66\n",
            "10/10 [==============================] - 11s 1s/step - loss: 1.1037 - acc: 0.5680 - val_loss: 0.9035 - val_acc: 0.6056\n",
            "Epoch 39/66\n",
            "10/10 [==============================] - 10s 990ms/step - loss: 0.9939 - acc: 0.5920 - val_loss: 0.9253 - val_acc: 0.5845\n",
            "Epoch 40/66\n",
            "10/10 [==============================] - 10s 1s/step - loss: 1.0053 - acc: 0.5600 - val_loss: 0.9435 - val_acc: 0.5634\n",
            "Epoch 41/66\n",
            "10/10 [==============================] - 10s 1s/step - loss: 1.0006 - acc: 0.4964 - val_loss: 0.9614 - val_acc: 0.5493\n",
            "Epoch 42/66\n",
            "10/10 [==============================] - 10s 995ms/step - loss: 0.9877 - acc: 0.5960 - val_loss: 0.9384 - val_acc: 0.5775\n",
            "Epoch 43/66\n",
            "10/10 [==============================] - 10s 986ms/step - loss: 1.0847 - acc: 0.5120 - val_loss: 0.9339 - val_acc: 0.5915\n",
            "Epoch 44/66\n",
            "10/10 [==============================] - 10s 997ms/step - loss: 1.0126 - acc: 0.5240 - val_loss: 0.9352 - val_acc: 0.6127\n",
            "Epoch 45/66\n",
            "10/10 [==============================] - 10s 1s/step - loss: 0.9367 - acc: 0.5920 - val_loss: 0.9285 - val_acc: 0.6056\n",
            "Epoch 46/66\n",
            "10/10 [==============================] - 7s 671ms/step - loss: 1.0120 - acc: 0.5389 - val_loss: 0.9367 - val_acc: 0.5915\n",
            "Epoch 47/66\n",
            "10/10 [==============================] - 11s 1s/step - loss: 0.9621 - acc: 0.5960 - val_loss: 0.9375 - val_acc: 0.6127\n",
            "Epoch 48/66\n",
            "10/10 [==============================] - 10s 1s/step - loss: 0.9669 - acc: 0.5480 - val_loss: 0.9177 - val_acc: 0.6197\n",
            "Epoch 49/66\n",
            "10/10 [==============================] - 9s 902ms/step - loss: 1.0160 - acc: 0.5800 - val_loss: 0.9042 - val_acc: 0.6056\n",
            "Epoch 50/66\n",
            "10/10 [==============================] - 10s 991ms/step - loss: 0.9431 - acc: 0.5655 - val_loss: 0.8790 - val_acc: 0.6127\n",
            "Epoch 51/66\n",
            "10/10 [==============================] - 10s 981ms/step - loss: 0.8878 - acc: 0.5775 - val_loss: 0.8674 - val_acc: 0.6338\n",
            "Epoch 52/66\n",
            "10/10 [==============================] - 10s 988ms/step - loss: 0.9055 - acc: 0.6200 - val_loss: 0.8662 - val_acc: 0.6408\n",
            "Epoch 53/66\n",
            "10/10 [==============================] - 10s 992ms/step - loss: 0.9727 - acc: 0.5800 - val_loss: 0.8576 - val_acc: 0.6761\n",
            "Epoch 54/66\n",
            "10/10 [==============================] - 10s 983ms/step - loss: 1.0287 - acc: 0.5414 - val_loss: 0.8640 - val_acc: 0.6761\n",
            "Epoch 55/66\n",
            "10/10 [==============================] - 10s 997ms/step - loss: 0.9997 - acc: 0.5880 - val_loss: 0.8556 - val_acc: 0.6901\n",
            "Epoch 56/66\n",
            "10/10 [==============================] - 7s 708ms/step - loss: 0.9556 - acc: 0.5520 - val_loss: 0.8434 - val_acc: 0.6901\n",
            "Epoch 57/66\n",
            "10/10 [==============================] - 13s 1s/step - loss: 0.9656 - acc: 0.6000 - val_loss: 0.8379 - val_acc: 0.6901\n",
            "Epoch 58/66\n",
            "10/10 [==============================] - 10s 981ms/step - loss: 0.8809 - acc: 0.6088 - val_loss: 0.8341 - val_acc: 0.6972\n",
            "Epoch 59/66\n",
            "10/10 [==============================] - 9s 867ms/step - loss: 0.9213 - acc: 0.6280 - val_loss: 0.8448 - val_acc: 0.7042\n",
            "Epoch 60/66\n",
            "10/10 [==============================] - 11s 1s/step - loss: 0.9942 - acc: 0.5480 - val_loss: 0.8477 - val_acc: 0.6831\n",
            "Epoch 61/66\n",
            "10/10 [==============================] - 10s 991ms/step - loss: 0.9232 - acc: 0.6064 - val_loss: 0.8424 - val_acc: 0.6831\n",
            "Epoch 62/66\n",
            "10/10 [==============================] - 10s 955ms/step - loss: 0.9748 - acc: 0.5600 - val_loss: 0.8492 - val_acc: 0.6831\n",
            "Epoch 63/66\n",
            "10/10 [==============================] - 10s 974ms/step - loss: 0.9901 - acc: 0.5880 - val_loss: 0.8302 - val_acc: 0.6690\n",
            "Epoch 64/66\n",
            "10/10 [==============================] - 10s 991ms/step - loss: 0.8586 - acc: 0.6225 - val_loss: 0.8069 - val_acc: 0.6901\n",
            "Epoch 65/66\n",
            "10/10 [==============================] - 10s 998ms/step - loss: 0.9585 - acc: 0.5680 - val_loss: 0.7982 - val_acc: 0.7042\n",
            "Epoch 66/66\n",
            "10/10 [==============================] - 10s 996ms/step - loss: 0.9352 - acc: 0.6160 - val_loss: 0.7996 - val_acc: 0.7042\n"
          ],
          "name": "stdout"
        }
      ]
    },
    {
      "cell_type": "code",
      "metadata": {
        "id": "LIhM7zaA9Xpx"
      },
      "source": [
        "keras_file=\"linear.h5\"\n",
        "keras.models.save_model(model,keras_file)\n"
      ],
      "execution_count": null,
      "outputs": []
    },
    {
      "cell_type": "code",
      "metadata": {
        "id": "CmBlgFig_Ocl",
        "outputId": "58dac60a-9745-496f-dd74-d00158e2fd44",
        "colab": {
          "base_uri": "https://localhost:8080/",
          "height": 36
        }
      },
      "source": [
        "Tensorflow.contrib?"
      ],
      "execution_count": null,
      "outputs": [
        {
          "output_type": "stream",
          "text": [
            "Object `tensorflow.contrib` not found.\n"
          ],
          "name": "stdout"
        }
      ]
    },
    {
      "cell_type": "code",
      "metadata": {
        "id": "J7f0yw_C-17d",
        "outputId": "f9557eac-6839-4728-d655-3557d571d0d2",
        "colab": {
          "base_uri": "https://localhost:8080/",
          "height": 261
        }
      },
      "source": [
        "import tensorflow as tf\n",
        "converter = tf.lite.TFLiteConverter.from_keras_model_file(keras_file) \n",
        "tfmodel = converter.convert() \n",
        "open (\"model.tflite\" , \"wb\") .write(tfmodel)"
      ],
      "execution_count": null,
      "outputs": [
        {
          "output_type": "stream",
          "text": [
            "WARNING:tensorflow:From /usr/local/lib/python3.6/dist-packages/tensorflow_core/python/ops/resource_variable_ops.py:1630: calling BaseResourceVariable.__init__ (from tensorflow.python.ops.resource_variable_ops) with constraint is deprecated and will be removed in a future version.\n",
            "Instructions for updating:\n",
            "If using Keras pass *_constraint arguments to layers.\n",
            "WARNING:tensorflow:From /usr/local/lib/python3.6/dist-packages/tensorflow_core/lite/python/util.py:249: convert_variables_to_constants (from tensorflow.python.framework.graph_util_impl) is deprecated and will be removed in a future version.\n",
            "Instructions for updating:\n",
            "Use `tf.compat.v1.graph_util.convert_variables_to_constants`\n",
            "WARNING:tensorflow:From /usr/local/lib/python3.6/dist-packages/tensorflow_core/python/framework/graph_util_impl.py:277: extract_sub_graph (from tensorflow.python.framework.graph_util_impl) is deprecated and will be removed in a future version.\n",
            "Instructions for updating:\n",
            "Use `tf.compat.v1.graph_util.extract_sub_graph`\n",
            "INFO:tensorflow:Froze 38 variables.\n",
            "INFO:tensorflow:Converted 38 variables to const ops.\n"
          ],
          "name": "stdout"
        },
        {
          "output_type": "execute_result",
          "data": {
            "text/plain": [
              "2896844"
            ]
          },
          "metadata": {
            "tags": []
          },
          "execution_count": 36
        }
      ]
    },
    {
      "cell_type": "code",
      "metadata": {
        "id": "KHqpyBmp97eQ",
        "outputId": "4d72967c-75b0-4fbc-80cb-5e47cbdb880b",
        "colab": {
          "base_uri": "https://localhost:8080/",
          "height": 192
        }
      },
      "source": [
        ""
      ],
      "execution_count": null,
      "outputs": [
        {
          "output_type": "error",
          "ename": "NameError",
          "evalue": "ignored",
          "traceback": [
            "\u001b[0;31m---------------------------------------------------------------------------\u001b[0m",
            "\u001b[0;31mNameError\u001b[0m                                 Traceback (most recent call last)",
            "\u001b[0;32m<ipython-input-94-3e25f143dd6c>\u001b[0m in \u001b[0;36m<module>\u001b[0;34m()\u001b[0m\n\u001b[0;32m----> 1\u001b[0;31m \u001b[0mconverter\u001b[0m\u001b[0;34m=\u001b[0m\u001b[0mlite\u001b[0m\u001b[0;34m.\u001b[0m\u001b[0mToConverter\u001b[0m\u001b[0;34m.\u001b[0m\u001b[0mfrom_keras_model_file\u001b[0m\u001b[0;34m(\u001b[0m\u001b[0mkeras_file\u001b[0m\u001b[0;34m)\u001b[0m\u001b[0;34m\u001b[0m\u001b[0;34m\u001b[0m\u001b[0m\n\u001b[0m\u001b[1;32m      2\u001b[0m \u001b[0mtflite_model\u001b[0m\u001b[0;34m=\u001b[0m\u001b[0mconverter\u001b[0m\u001b[0;34m.\u001b[0m\u001b[0mconvert\u001b[0m\u001b[0;34m(\u001b[0m\u001b[0mopen\u001b[0m\u001b[0;34m(\u001b[0m\u001b[0;34m\"linear.tflite\"\u001b[0m\u001b[0;34m,\u001b[0m\u001b[0mmode\u001b[0m\u001b[0;34m=\u001b[0m\u001b[0;34m\"wb\"\u001b[0m\u001b[0;34m)\u001b[0m\u001b[0;34m.\u001b[0m\u001b[0mwrite\u001b[0m\u001b[0;34m(\u001b[0m\u001b[0mtflite_model\u001b[0m\u001b[0;34m)\u001b[0m\u001b[0;34m)\u001b[0m\u001b[0;34m\u001b[0m\u001b[0;34m\u001b[0m\u001b[0m\n",
            "\u001b[0;31mNameError\u001b[0m: name 'lite' is not defined"
          ]
        }
      ]
    },
    {
      "cell_type": "code",
      "metadata": {
        "id": "YJPBkb9NCXMI"
      },
      "source": [
        "import numpy as np"
      ],
      "execution_count": null,
      "outputs": []
    },
    {
      "cell_type": "code",
      "metadata": {
        "id": "JaPo6-thEcQ1"
      },
      "source": [
        "predictions = model.predict_generator(generator=val_generator)\n",
        "y_pred = [np.argmax(probas) for probas in predictions]\n",
        "y_test = val_generator.classes\n",
        "class_names = val_generator.class_indices.keys()"
      ],
      "execution_count": null,
      "outputs": []
    },
    {
      "cell_type": "code",
      "metadata": {
        "id": "ypDlTYKRJDnG",
        "outputId": "9db07e8b-d142-4ff0-d819-b9b69b0a6b89",
        "colab": {
          "base_uri": "https://localhost:8080/",
          "height": 34
        }
      },
      "source": [
        "class_names"
      ],
      "execution_count": null,
      "outputs": [
        {
          "output_type": "execute_result",
          "data": {
            "text/plain": [
              "dict_keys(['Bajari', 'Jwari', 'wheat'])"
            ]
          },
          "metadata": {
            "tags": []
          },
          "execution_count": 40
        }
      ]
    },
    {
      "cell_type": "code",
      "metadata": {
        "id": "0BDvnqazKDtK",
        "outputId": "5b086f32-54be-42ab-e14d-a331e9b7fc8e",
        "colab": {
          "base_uri": "https://localhost:8080/",
          "height": 255
        }
      },
      "source": [
        "y_test"
      ],
      "execution_count": null,
      "outputs": [
        {
          "output_type": "execute_result",
          "data": {
            "text/plain": [
              "array([0, 0, 0, 0, 0, 0, 0, 0, 0, 0, 0, 0, 0, 0, 0, 0, 0, 0, 0, 0, 0, 0,\n",
              "       0, 0, 0, 0, 0, 0, 0, 0, 0, 0, 0, 0, 0, 0, 0, 0, 0, 0, 0, 0, 0, 0,\n",
              "       0, 0, 0, 0, 0, 0, 0, 0, 0, 0, 0, 0, 0, 0, 0, 0, 0, 0, 0, 0, 0, 0,\n",
              "       0, 0, 0, 0, 0, 0, 0, 0, 0, 0, 0, 0, 0, 0, 0, 0, 0, 0, 0, 0, 0, 0,\n",
              "       0, 0, 0, 0, 0, 0, 0, 0, 0, 0, 0, 0, 0, 0, 0, 0, 0, 0, 0, 0, 0, 0,\n",
              "       0, 0, 0, 0, 0, 0, 0, 0, 0, 0, 0, 0, 0, 0, 0, 0, 0, 0, 1, 1, 1, 1,\n",
              "       1, 1, 1, 1, 1, 1, 1, 1, 1, 1, 1, 1, 1, 1, 1, 1, 1, 1, 1, 1, 1, 1,\n",
              "       1, 1, 1, 1, 1, 1, 1, 1, 1, 1, 1, 1, 1, 1, 1, 1, 1, 1, 1, 1, 1, 1,\n",
              "       1, 1, 1, 1, 1, 1, 1, 1, 1, 1, 1, 1, 1, 1, 1, 1, 1, 1, 1, 1, 1, 1,\n",
              "       1, 1, 1, 1, 1, 1, 1, 1, 1, 1, 1, 1, 1, 1, 1, 1, 1, 1, 1, 1, 1, 1,\n",
              "       1, 1, 1, 1, 1, 1, 1, 1, 1, 1, 1, 1, 1, 1, 1, 1, 1, 2, 2, 2, 2, 2,\n",
              "       2, 2, 2, 2, 2, 2, 2, 2, 2, 2, 2, 2, 2, 2, 2, 2, 2, 2, 2, 2, 2, 2,\n",
              "       2, 2, 2, 2, 2, 2, 2, 2, 2, 2, 2, 2, 2, 2, 2, 2, 2, 2, 2, 2, 2, 2],\n",
              "      dtype=int32)"
            ]
          },
          "metadata": {
            "tags": []
          },
          "execution_count": 41
        }
      ]
    },
    {
      "cell_type": "code",
      "metadata": {
        "id": "KaI2ESmYKHfS",
        "outputId": "71515cc7-c963-45f4-bbd6-3f9dcf071cb1",
        "colab": {
          "base_uri": "https://localhost:8080/",
          "height": 34
        }
      },
      "source": [
        "y_test.shape"
      ],
      "execution_count": null,
      "outputs": [
        {
          "output_type": "execute_result",
          "data": {
            "text/plain": [
              "(286,)"
            ]
          },
          "metadata": {
            "tags": []
          },
          "execution_count": 42
        }
      ]
    },
    {
      "cell_type": "code",
      "metadata": {
        "id": "X2-D6789KKh7"
      },
      "source": [
        ""
      ],
      "execution_count": null,
      "outputs": []
    }
  ]
}