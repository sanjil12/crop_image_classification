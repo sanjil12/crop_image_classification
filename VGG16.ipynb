{
 "cells": [
  {
   "cell_type": "code",
   "execution_count": null,
   "metadata": {
    "id": "i7WKPKWoBkIz"
   },
   "outputs": [],
   "source": []
  },
  {
   "cell_type": "code",
   "execution_count": null,
   "metadata": {
    "colab": {
     "base_uri": "https://localhost:8080/",
     "height": 121
    },
    "id": "8dUVN0vcBrgj",
    "outputId": "e8b2470b-078b-4258-ab62-74b47c1ea43a"
   },
   "outputs": [],
   "source": [
    "from google.colab import drive\n",
    "drive.mount('/content/drive')"
   ]
  },
  {
   "cell_type": "code",
   "execution_count": null,
   "metadata": {
    "colab": {
     "base_uri": "https://localhost:8080/",
     "height": 79
    },
    "id": "kwk1uaApBr_w",
    "outputId": "810a494b-a743-4174-e765-7d2b212c9c0f"
   },
   "outputs": [],
   "source": [
    "import pandas as pd\n",
    "import numpy as np \n",
    "import itertools\n",
    "import keras\n",
    "from sklearn import metrics\n",
    "from sklearn.metrics import confusion_matrix\n",
    "from keras.preprocessing.image import ImageDataGenerator, img_to_array, load_img \n",
    "from keras.models import Sequential \n",
    "from keras import optimizers\n",
    "from keras.preprocessing import image\n",
    "from keras.layers import Dropout, Flatten, Dense \n",
    "from keras import applications \n",
    "from keras.utils.np_utils import to_categorical \n",
    "import matplotlib.pyplot as plt \n",
    "import matplotlib.image as mpimg\n",
    "%matplotlib inline\n",
    "import math \n",
    "import datetime\n",
    "import time"
   ]
  },
  {
   "cell_type": "code",
   "execution_count": null,
   "metadata": {
    "id": "5hykBzr2B1er"
   },
   "outputs": [],
   "source": [
    "img_width, img_height = 450,450\n",
    " \n",
    "modelweights4 = 'bottleneckfc_model1.h5'\n",
    "train_data_dir = '/content/drive/My Drive/Dataset/Train' \n",
    "validation_data_dir = '/content/drive/My Drive/Dataset/Test' \n",
    "\n",
    " \n",
    "\n",
    "epochs = 9\n",
    "batch_size = 100"
   ]
  },
  {
   "cell_type": "code",
   "execution_count": null,
   "metadata": {
    "colab": {
     "base_uri": "https://localhost:8080/",
     "height": 406
    },
    "id": "uxMoHzAEB5lD",
    "outputId": "7772e7ce-4022-483e-83be-22c1741fd325"
   },
   "outputs": [],
   "source": [
    "from keras.applications import resnet50,VGG16\n",
    "vgg16 = VGG16(include_top=False, weights='imagenet')\n",
    "datagen = ImageDataGenerator(rescale=1.0/ 255, rotation_range = 40,\n",
    "    width_shift_range = 0.2,\n",
    "    height_shift_range = 0.2,\n",
    "    shear_range = 0.2,\n",
    "    zoom_range = 0.3,\n",
    "    horizontal_flip = True)"
   ]
  },
  {
   "cell_type": "code",
   "execution_count": null,
   "metadata": {
    "colab": {
     "base_uri": "https://localhost:8080/",
     "height": 504
    },
    "id": "4stL2fqgCEAg",
    "outputId": "899f050d-601d-44db-83f1-e0c6b4a73b6b"
   },
   "outputs": [],
   "source": [
    "start = datetime.datetime.now()\n",
    " \n",
    "generator = datagen.flow_from_directory( \n",
    "    train_data_dir, \n",
    "    target_size=(img_width, img_height), \n",
    "    batch_size=batch_size, \n",
    "    class_mode=None, \n",
    "    shuffle=False) \n",
    " \n",
    "nb_train_samples = len(generator.filenames) \n",
    "num_classes = len(generator.class_indices) \n",
    " \n",
    "predict_size_train = int(math.ceil(nb_train_samples / batch_size)) \n",
    " \n",
    "bottleneck_features_train = vgg16.predict_generator(generator, predict_size_train) \n",
    " \n",
    "np.save('bottleneck_features_train4.npy', bottleneck_features_train)\n",
    "end= datetime.datetime.now()\n",
    "elapsed= end-start\n",
    "print ('Time: ', elapsed)"
   ]
  },
  {
   "cell_type": "code",
   "execution_count": null,
   "metadata": {
    "colab": {
     "base_uri": "https://localhost:8080/",
     "height": 229
    },
    "id": "iIrduh-7CxtJ",
    "outputId": "29803acc-0800-463a-fdf0-963a2324e4bf"
   },
   "outputs": [],
   "source": [
    "#training data\n",
    "generator_top = datagen.flow_from_directory( \n",
    "   train_data_dir, \n",
    "   target_size=(img_width, img_height), \n",
    "   batch_size=batch_size, \n",
    "   class_mode='categorical', \n",
    "   shuffle=False) \n",
    " \n",
    "nb_train_samples = len(generator_top.filenames) \n",
    "num_classes = len(generator_top.class_indices) \n",
    " \n",
    "\n",
    "train_data = np.load('bottleneck_features_train4.npy') \n",
    " \n",
    "\n",
    "train_labels = generator_top.classes \n",
    " \n",
    "\n",
    "train_labels = to_categorical(train_labels, num_classes=num_classes)"
   ]
  },
  {
   "cell_type": "code",
   "execution_count": null,
   "metadata": {
    "id": "NTbatm0fPSKp"
   },
   "outputs": [],
   "source": [
    "#valiadtion feaatures\n",
    "generator = datagen.flow_from_directory(  \n",
    "     validation_data_dir,  \n",
    "     target_size=(img_width, img_height),  \n",
    "     batch_size=batch_size,  \n",
    "     class_mode=None,  \n",
    "     shuffle=False)  \n",
    "   \n",
    "nb_validation_samples = len(generator.filenames)  \n",
    "   \n",
    "predict_size_validation = int(math.ceil(nb_validation_samples / batch_size))  \n",
    "   \n",
    "bottleneck_features_validation = vgg16.predict_generator(  \n",
    "     generator, predict_size_validation)  \n",
    "   \n",
    "np.save('bottleneck_features_validation2.npy', bottleneck_features_validation)"
   ]
  },
  {
   "cell_type": "code",
   "execution_count": null,
   "metadata": {
    "id": "BHwVFFgRPdYw"
   },
   "outputs": [],
   "source": [
    "\n",
    "generator_top = datagen.flow_from_directory(  \n",
    "         validation_data_dir,  \n",
    "         target_size=(img_width, img_height),  \n",
    "         batch_size=batch_size,  \n",
    "         class_mode=None,  \n",
    "         shuffle=False)  \n",
    "   \n",
    "nb_validation_samples = len(generator_top.filenames)  \n",
    "   \n",
    "validation_data = np.load('bottleneck_features_validation2.npy')  \n",
    "   \n",
    "validation_labels = generator_top.classes  \n",
    "validation_labels = to_categorical(validation_labels, num_classes=num_classes) "
   ]
  },
  {
   "cell_type": "code",
   "execution_count": null,
   "metadata": {
    "id": "Brall4DJRWYO"
   },
   "outputs": [],
   "source": [
    "model = Sequential()  \n",
    "model.add(Flatten(input_shape=train_data.shape[1:]))  \n",
    "model.add(Dense(256, activation='relu'))  \n",
    "model.add(Dropout(0.5))  \n",
    "model.add(Dense(num_classes, activation='sigmoid'))  \n",
    "   \n",
    "model.compile(optimizer='rmsprop',  \n",
    "              loss='categorical_crossentropy', metrics=['accuracy'])  \n",
    "   \n",
    "history = model.fit(train_data, train_labels,  \n",
    "          epochs=epochs,  \n",
    "          batch_size=batch_size,  \n",
    "          validation_data=(validation_data, validation_labels))  \n",
    "   \n",
    "model.save_weights(modelweights4)  \n",
    "   \n",
    "(eval_loss, eval_accuracy) = model.evaluate(  \n",
    "     validation_data, validation_labels, batch_size=batch_size, verbose=1)\n",
    "\n",
    "print(\"[INFO] accuracy: {:.2f}%\".format(eval_accuracy * 100))  \n",
    "print(\"[INFO] Loss: {}\".format(eval_loss))"
   ]
  },
  {
   "cell_type": "code",
   "execution_count": null,
   "metadata": {
    "id": "FEiTQA9wRZzA"
   },
   "outputs": [],
   "source": [
    " plt.figure(1)  \n",
    "   \n",
    " # summarize history for accuracy  \n",
    "   \n",
    " plt.subplot(211)  \n",
    " plt.plot(history.history['acc'])  \n",
    " plt.plot(history.history['val_acc'])  \n",
    " plt.title('model accuracy')  \n",
    " plt.ylabel('accuracy')  \n",
    " plt.xlabel('epoch')  \n",
    " plt.legend(['train', 'test'], loc='upper left')  \n",
    "   \n",
    " # summarize history for loss  \n",
    "   \n",
    " plt.subplot(212)  \n",
    " plt.plot(history.history['loss'])  \n",
    " plt.plot(history.history['val_loss'])  \n",
    " plt.title('model loss')  \n",
    " plt.ylabel('loss')  \n",
    " plt.xlabel('epoch')  \n",
    " plt.legend(['train', 'test'], loc='upper left')  \n",
    " plt.show() "
   ]
  },
  {
   "cell_type": "code",
   "execution_count": null,
   "metadata": {
    "id": "cxwgvnXGSMzL"
   },
   "outputs": [],
   "source": [
    "import cv2\n",
    "import matplotlib.pyplot as plt\n"
   ]
  },
  {
   "cell_type": "code",
   "execution_count": null,
   "metadata": {
    "id": "rIJ3XNgKSe4v"
   },
   "outputs": [],
   "source": [
    "image_path = '/content/drive/My Drive/Dataset/Test/Millet/millet166.jpg'  \n",
    "   \n",
    "orig = cv2.imread(image_path)  \n",
    "   \n",
    "print(\"[INFO] loading and preprocessing image...\")  \n",
    "image = load_img(image_path, target_size=(150,150))  \n",
    "image = img_to_array(image)  \n",
    "   \n",
    " # important! otherwise the predictions will be '0'  \n",
    "image = image / 255  \n",
    "   \n",
    "image = np.expand_dims(image, axis=0)"
   ]
  },
  {
   "cell_type": "code",
   "execution_count": null,
   "metadata": {
    "id": "Czo1jO_qSftE"
   },
   "outputs": [],
   "source": [
    " # build the VGG16 network  \n",
    " model = applications.VGG16(include_top=False, weights='imagenet')  \n",
    "   \n",
    " # get the bottleneck prediction from the pre-trained VGG16 model  \n",
    " bottleneck_prediction = model.predict(image)  \n",
    "   \n",
    " # build top model  \n",
    " model = Sequential()  \n",
    " model.add(Flatten(input_shape=bottleneck_prediction.shape[1:]))  \n",
    " model.add(Dense(256, activation='relu'))  \n",
    " model.add(Dropout(0.5))  \n",
    " model.add(Dense(num_classes, activation='sigmoid'))  \n",
    "   \n",
    " model.load_weights(modelweights4)  \n",
    "   \n",
    " # use the bottleneck prediction on the top model to get the final classification  \n",
    " class_predicted = model.predict_classes(bottleneck_prediction)"
   ]
  },
  {
   "cell_type": "code",
   "execution_count": null,
   "metadata": {
    "id": "IKRNTfYCSlFK"
   },
   "outputs": [],
   "source": [
    " inID = class_predicted[0]  \n",
    "   \n",
    "class_dictionary = generator_top.class_indices  \n",
    "   \n",
    "inv_map = {v: k for k, v in class_dictionary.items()}  \n",
    "   \n",
    "label = inv_map[inID]  \n",
    "\n",
    "   \n",
    " # get the prediction label  \n",
    "print(\"Image ID: {}, Label: {}\".format(inID, label))  \n",
    "   \n",
    " # display the predictions with the image  \n",
    "cv2.putText(orig, \"Predicted: {}\".format(label), (10, 30), cv2.FONT_HERSHEY_PLAIN, 1.5, (43, 99, 255), 2)  \n",
    "   \n",
    "plt.imshow(orig)  \n",
    "cv2.waitKey(0)  \n",
    "cv2.destroyAllWindows()"
   ]
  },
  {
   "cell_type": "code",
   "execution_count": null,
   "metadata": {
    "id": "MWJPzde8iyYe"
   },
   "outputs": [],
   "source": [
    "import tensorflow as tf\n",
    "keras_file=\"bottleneckfc_model1.h5\"\n",
    "keras.models.save_model(model,keras_file)\n",
    "converter=tf.lite.TFLiteConverter.from_keras_model_file(keras_file)\n",
    "tfmodel=converter.convert()\n",
    "open(\"model9.tflite\",\"wb\").write(tfmodel)"
   ]
  },
  {
   "cell_type": "code",
   "execution_count": null,
   "metadata": {
    "id": "UxMMW4_p9Ez-"
   },
   "outputs": [],
   "source": []
  }
 ],
 "metadata": {
  "accelerator": "GPU",
  "colab": {
   "collapsed_sections": [],
   "name": "Untitled4.ipynb",
   "provenance": []
  },
  "kernelspec": {
   "display_name": "Python 3",
   "language": "python",
   "name": "python3"
  },
  "language_info": {
   "codemirror_mode": {
    "name": "ipython",
    "version": 3
   },
   "file_extension": ".py",
   "mimetype": "text/x-python",
   "name": "python",
   "nbconvert_exporter": "python",
   "pygments_lexer": "ipython3",
   "version": "3.7.3"
  }
 },
 "nbformat": 4,
 "nbformat_minor": 1
}
